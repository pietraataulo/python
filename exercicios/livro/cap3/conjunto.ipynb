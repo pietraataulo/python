{
 "cells": [
  {
   "cell_type": "markdown",
   "metadata": {},
   "source": [
    "## **Conjunto** é uma coleção não ordenada de elementos únicos\n",
    "### Pode ser criado de duas maneiras:"
   ]
  },
  {
   "cell_type": "code",
   "execution_count": 1,
   "metadata": {},
   "outputs": [
    {
     "data": {
      "text/plain": [
       "{1, 2, 3}"
      ]
     },
     "execution_count": 1,
     "metadata": {},
     "output_type": "execute_result"
    }
   ],
   "source": [
    "set([2,2,2,1,3,3])"
   ]
  },
  {
   "cell_type": "code",
   "execution_count": 2,
   "metadata": {},
   "outputs": [
    {
     "data": {
      "text/plain": [
       "{1, 2, 3}"
      ]
     },
     "execution_count": 2,
     "metadata": {},
     "output_type": "execute_result"
    }
   ],
   "source": [
    "{2,2,2,1,3,3}"
   ]
  },
  {
   "cell_type": "markdown",
   "metadata": {},
   "source": [
    "### Conjuntos suportam operações _matemáticas de conjunto_"
   ]
  },
  {
   "cell_type": "code",
   "execution_count": 3,
   "metadata": {},
   "outputs": [
    {
     "data": {
      "text/plain": [
       "{1, 2, 3, 4, 5, 6, 7, 8}"
      ]
     },
     "execution_count": 3,
     "metadata": {},
     "output_type": "execute_result"
    }
   ],
   "source": [
    "# União\n",
    "\n",
    "a = {1,2,3,4,5}\n",
    "b = {3,4,5,6,7,8}\n",
    "\n",
    "a.union(b)"
   ]
  },
  {
   "cell_type": "code",
   "execution_count": 4,
   "metadata": {},
   "outputs": [
    {
     "data": {
      "text/plain": [
       "{1, 2, 3, 4, 5, 6, 7, 8}"
      ]
     },
     "execution_count": 4,
     "metadata": {},
     "output_type": "execute_result"
    }
   ],
   "source": [
    "a | b"
   ]
  },
  {
   "cell_type": "code",
   "execution_count": 5,
   "metadata": {},
   "outputs": [
    {
     "data": {
      "text/plain": [
       "{3, 4, 5}"
      ]
     },
     "execution_count": 5,
     "metadata": {},
     "output_type": "execute_result"
    }
   ],
   "source": [
    "# Interseção: Elementos que aparecem nos dois conjuntos\n",
    "\n",
    "a.intersection(b)"
   ]
  },
  {
   "cell_type": "code",
   "execution_count": 6,
   "metadata": {},
   "outputs": [
    {
     "data": {
      "text/plain": [
       "{3, 4, 5}"
      ]
     },
     "execution_count": 6,
     "metadata": {},
     "output_type": "execute_result"
    }
   ],
   "source": [
    "a & b"
   ]
  },
  {
   "cell_type": "markdown",
   "metadata": {},
   "source": [
    "### Lista de métodos de conjuntos mais usados\n",
    " **a.add(x)**                         Adiciona o elemento x ao conjunto a.\\\n",
    " **a.clear()**                        Redefine o conjunto para um estado vazio.\\\n",
    " **a.remove(x)**                      Remove o elemento x do conjunto a.\\\n",
    " **a.pop()**                          Remove um elemento arbitrário do conjunto a.\\\n",
    " **a.union(b)**                       Todos os elementos únicos de a e b.\\\n",
    " **a.update(b)**                      Define o conteúdo de a para ser a união dos elementos de a e b.\\\n",
    " **a.intersection(b)**                Todos os elementos contidos tanto em a quanto em b.\\\n",
    " **a.intersection_update(b)**         Define o conteúdo de a para ser a interseção dos elementos de a e b.\\\n",
    " **a.difference(b)**                  Os elementos de a que não estão em b.\\\n",
    " **a.difference_update(b)**           Define a com os elementos de a que não estejam em b.\\\n",
    " **a.symmetric_difference(b)**        Todos os elementos que estejam em a ou b, mas não em ambos.\\\n",
    " **a.symmetric_difference_update(b)** Define a para conter elementos que estejam em a ou em b, mas não em ambos.\\\n",
    " **a.issubset(b)**                    True se todos os elementos de a estiverem contidos em b.\\\n",
    " **a.issuperset(b)**                  True se todos os elementos de b estiverem contidos em a.\\\n",
    " **a.isdisjoint(b)**                  True se a e b não tiverem elementos em comum."
   ]
  }
 ],
 "metadata": {
  "kernelspec": {
   "display_name": "Python 3",
   "language": "python",
   "name": "python3"
  },
  "language_info": {
   "codemirror_mode": {
    "name": "ipython",
    "version": 3
   },
   "file_extension": ".py",
   "mimetype": "text/x-python",
   "name": "python",
   "nbconvert_exporter": "python",
   "pygments_lexer": "ipython3",
   "version": "3.12.1"
  }
 },
 "nbformat": 4,
 "nbformat_minor": 2
}
