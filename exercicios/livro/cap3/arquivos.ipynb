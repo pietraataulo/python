{
 "cells": [
  {
   "cell_type": "markdown",
   "metadata": {},
   "source": [
    "## Arquivos e o sistema operacional"
   ]
  },
  {
   "cell_type": "code",
   "execution_count": 7,
   "metadata": {},
   "outputs": [],
   "source": [
    "# open para abrir um arquivo para leitura ou escrita\n",
    "path = \"exemplo.txt\"\n",
    "f = open(path, encoding=\"utf-8\")\n"
   ]
  },
  {
   "cell_type": "markdown",
   "metadata": {},
   "source": [
    "### Por padrão, o arquivo é aberto somente no modo leitura \"r\". Podemos iterar pelas linhas do arquivo da seguinte forma:"
   ]
  },
  {
   "cell_type": "code",
   "execution_count": 8,
   "metadata": {},
   "outputs": [
    {
     "name": "stdout",
     "output_type": "stream",
     "text": [
      "Morango\n",
      "\n",
      "Uva\n",
      "\n",
      "Banana\n",
      "\n",
      "Laranja\n"
     ]
    }
   ],
   "source": [
    "for line in f:\n",
    "    print(line)"
   ]
  },
  {
   "cell_type": "markdown",
   "metadata": {},
   "source": [
    "### É recomendável fechar o arquivo ao terminar de usá-lo"
   ]
  },
  {
   "cell_type": "code",
   "execution_count": 9,
   "metadata": {},
   "outputs": [],
   "source": [
    "f.close()"
   ]
  },
  {
   "cell_type": "markdown",
   "metadata": {},
   "source": [
    "### Uma das maneiras de facilitar a limpeza de arquivos é usando o with"
   ]
  },
  {
   "cell_type": "code",
   "execution_count": 10,
   "metadata": {},
   "outputs": [],
   "source": [
    "with open(path, encoding=\"utf-8\") as f:\n",
    "    lines = [x.rstrip() for x in f]\n",
    "\n",
    "# Fechará automaticamente o arquivo quando sairmos do bloco with"
   ]
  },
  {
   "cell_type": "markdown",
   "metadata": {},
   "source": [
    "## Modos de arquivo do Python \n",
    "**r** Somente leitura\\\n",
    "**w** Somente escrita (cria um novo arquivo)\\\n",
    "**x** Somente escrita (cria um novo arquivo mas falha se o caminho já existir)\\\n",
    "**a** Acrescenta a arquivo existente\\\n",
    "**r+** Leitura e escrita\\\n",
    "**b** Adicione ao modo em caso de arquivos binários (rb ou wb)\\\n",
    "**t** Modo texto para arquivos (decodifica bytes para Unicode, modo padrão)\\"
   ]
  }
 ],
 "metadata": {
  "kernelspec": {
   "display_name": "Python 3",
   "language": "python",
   "name": "python3"
  },
  "language_info": {
   "codemirror_mode": {
    "name": "ipython",
    "version": 3
   },
   "file_extension": ".py",
   "mimetype": "text/x-python",
   "name": "python",
   "nbconvert_exporter": "python",
   "pygments_lexer": "ipython3",
   "version": "3.12.1"
  }
 },
 "nbformat": 4,
 "nbformat_minor": 2
}
